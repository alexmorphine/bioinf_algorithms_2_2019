{
 "cells": [
  {
   "cell_type": "code",
   "execution_count": 1,
   "metadata": {},
   "outputs": [],
   "source": [
    "%matplotlib inline\n",
    "from knn import KNN, RNN, LOO\n",
    "import pandas as pd\n",
    "import numpy as np"
   ]
  },
  {
   "cell_type": "code",
   "execution_count": 2,
   "metadata": {},
   "outputs": [],
   "source": [
    "# reading data\n",
    "spam = pd.read_csv('spam.csv', dtype=float)\n",
    "cancer = pd.read_csv('cancer.csv')"
   ]
  },
  {
   "cell_type": "code",
   "execution_count": 3,
   "metadata": {},
   "outputs": [],
   "source": [
    "# just to be sure I convert binary str labels to int\n",
    "cancer.label = pd.get_dummies(cancer.label, drop_first=True)"
   ]
  },
  {
   "cell_type": "code",
   "execution_count": 4,
   "metadata": {},
   "outputs": [],
   "source": [
    "\n",
    "def solution(cls, data, norm=False):\n",
    "    \"\"\"\n",
    "    This is just a pipeline function\n",
    "    \n",
    "    Args:\n",
    "        cls (class): class of clustering\n",
    "        data (pd.DataFrame): data to cluster with target named 'label'\n",
    "        norm (bool): norm the input\n",
    "\n",
    "    \"\"\"\n",
    "    \n",
    "    # all scores will be kept here with parameters\n",
    "    scores = {}\n",
    "    \n",
    "    # splitting feature data and target variable\n",
    "    X, y = data.drop(['label'], axis=1), data.label\n",
    "    \n",
    "    # if scaling should be made to 0 - 1\n",
    "    if norm:\n",
    "        X = (X - X.min()) / (X.max() - X.min())\n",
    "\n",
    "    print(f'{cls.name}')\n",
    "\n",
    "    # for KNN iterating over 1 to 10 neighbours\n",
    "    if cls.name == 'KNN':\n",
    "        start, stop, count = 1, 10, 10\n",
    "        \n",
    "    # for RNN radius is from 10 to 10000 \n",
    "    elif cls.name == 'RNN':\n",
    "        start, stop, count = 10, 10000, 10\n",
    "        \n",
    "        # if scaling is applied, then changing to 0.1 - 1\n",
    "        if norm:\n",
    "            start, stop, count = 0.1, 1, 10\n",
    "    \n",
    "    # for each parameter\n",
    "    for param in np.linspace(start, stop, count):\n",
    "        \n",
    "        loo = LOO(param, cls)\n",
    "        \n",
    "        # calculating LOO\n",
    "        score = loo.calculate(X, y)\n",
    "        \n",
    "        # saving parameter with a score\n",
    "        scores[param] = score\n",
    "        print(f'\\t{param}: {score:.4f}')\n",
    "        \n",
    "    # choosing the best parameter\n",
    "    best = min(scores, key=scores.get)\n",
    "    print(f'Best parameter is {best} with score {scores[best]:.3f}')\n",
    "    "
   ]
  },
  {
   "cell_type": "code",
   "execution_count": 5,
   "metadata": {},
   "outputs": [
    {
     "name": "stdout",
     "output_type": "stream",
     "text": [
      "KNN\n",
      "\t1.0: 0.1693\n",
      "\t2.0: 0.1908\n",
      "\t3.0: 0.1856\n",
      "\t4.0: 0.1930\n",
      "\t5.0: 0.1858\n",
      "\t6.0: 0.2004\n",
      "\t7.0: 0.1958\n",
      "\t8.0: 0.2010\n",
      "\t9.0: 0.2026\n",
      "\t10.0: 0.2021\n",
      "Best parameter is 1.0 with score 0.169\n"
     ]
    }
   ],
   "source": [
    "# KNN for spam without scaling\n",
    "solution(KNN, spam)"
   ]
  },
  {
   "cell_type": "code",
   "execution_count": 6,
   "metadata": {
    "scrolled": true
   },
   "outputs": [
    {
     "name": "stdout",
     "output_type": "stream",
     "text": [
      "RNN\n",
      "\t10.0: 0.2997\n",
      "\t1120.0: 0.3641\n",
      "\t2230.0: 0.3849\n",
      "\t3340.0: 0.3921\n",
      "\t4450.0: 0.3945\n",
      "\t5560.0: 0.3936\n",
      "\t6670.0: 0.3934\n",
      "\t7780.0: 0.3932\n",
      "\t8890.0: 0.3930\n",
      "\t10000.0: 0.3936\n",
      "Best parameter is 10.0 with score 0.300\n"
     ]
    }
   ],
   "source": [
    "# RNN for spam without scaling\n",
    "solution(RNN, spam)"
   ]
  },
  {
   "cell_type": "code",
   "execution_count": 7,
   "metadata": {},
   "outputs": [
    {
     "name": "stdout",
     "output_type": "stream",
     "text": [
      "KNN\n",
      "\t1.0: 0.0876\n",
      "\t2.0: 0.1011\n",
      "\t3.0: 0.0948\n",
      "\t4.0: 0.1015\n",
      "\t5.0: 0.0952\n",
      "\t6.0: 0.1028\n",
      "\t7.0: 0.0993\n",
      "\t8.0: 0.1022\n",
      "\t9.0: 0.1019\n",
      "\t10.0: 0.1052\n",
      "Best parameter is 1.0 with score 0.088\n"
     ]
    }
   ],
   "source": [
    "# KNN for spam with scaling\n",
    "solution(KNN, spam, norm=True)"
   ]
  },
  {
   "cell_type": "code",
   "execution_count": 8,
   "metadata": {
    "scrolled": true
   },
   "outputs": [
    {
     "name": "stdout",
     "output_type": "stream",
     "text": [
      "RNN\n",
      "\t0.1: 0.4784\n",
      "\t0.2: 0.2639\n",
      "\t0.30000000000000004: 0.2217\n",
      "\t0.4: 0.2634\n",
      "\t0.5: 0.3193\n",
      "\t0.6: 0.3625\n",
      "\t0.7000000000000001: 0.3808\n",
      "\t0.8: 0.3886\n",
      "\t0.9: 0.3932\n",
      "\t1.0: 0.3962\n",
      "Best parameter is 0.30000000000000004 with score 0.222\n"
     ]
    }
   ],
   "source": [
    "# RNN for spam with scaling\n",
    "solution(RNN, spam, norm=True)"
   ]
  },
  {
   "cell_type": "code",
   "execution_count": 10,
   "metadata": {
    "scrolled": true
   },
   "outputs": [
    {
     "name": "stdout",
     "output_type": "stream",
     "text": [
      "KNN\n",
      "\t1.0: 0.0844\n",
      "\t2.0: 0.0773\n",
      "\t3.0: 0.0738\n",
      "\t4.0: 0.0738\n",
      "\t5.0: 0.0668\n",
      "\t6.0: 0.0703\n",
      "\t7.0: 0.0685\n",
      "\t8.0: 0.0703\n",
      "\t9.0: 0.0668\n",
      "\t10.0: 0.0703\n",
      "Best parameter is 5.0 with score 0.067\n"
     ]
    }
   ],
   "source": [
    "# KNN for cancer without scaling\n",
    "solution(KNN, cancer)"
   ]
  },
  {
   "cell_type": "code",
   "execution_count": 11,
   "metadata": {},
   "outputs": [
    {
     "name": "stdout",
     "output_type": "stream",
     "text": [
      "RNN\n",
      "\t10.0: 0.8330\n",
      "\t1120.0: 0.2214\n",
      "\t2230.0: 0.3497\n",
      "\t3340.0: 0.3708\n",
      "\t4450.0: 0.3726\n",
      "\t5560.0: 0.3726\n",
      "\t6670.0: 0.3726\n",
      "\t7780.0: 0.3726\n",
      "\t8890.0: 0.3726\n",
      "\t10000.0: 0.3726\n",
      "Best parameter is 1120.0 with score 0.221\n"
     ]
    }
   ],
   "source": [
    "# RNN for cancer without scaling\n",
    "solution(RNN, cancer)"
   ]
  },
  {
   "cell_type": "code",
   "execution_count": 12,
   "metadata": {},
   "outputs": [
    {
     "name": "stdout",
     "output_type": "stream",
     "text": [
      "KNN\n",
      "\t1.0: 0.0475\n",
      "\t2.0: 0.0387\n",
      "\t3.0: 0.0299\n",
      "\t4.0: 0.0281\n",
      "\t5.0: 0.0334\n",
      "\t6.0: 0.0299\n",
      "\t7.0: 0.0299\n",
      "\t8.0: 0.0316\n",
      "\t9.0: 0.0299\n",
      "\t10.0: 0.0299\n",
      "Best parameter is 4.0 with score 0.028\n"
     ]
    }
   ],
   "source": [
    "# KNN for cancer with scaling\n",
    "solution(KNN, cancer, norm=True)"
   ]
  },
  {
   "cell_type": "code",
   "execution_count": 13,
   "metadata": {},
   "outputs": [
    {
     "name": "stdout",
     "output_type": "stream",
     "text": [
      "RNN\n",
      "\t0.1: 1.0000\n",
      "\t0.2: 0.8699\n",
      "\t0.30000000000000004: 0.4569\n",
      "\t0.4: 0.2232\n",
      "\t0.5: 0.1459\n",
      "\t0.6: 0.1037\n",
      "\t0.7000000000000001: 0.0914\n",
      "\t0.8: 0.0967\n",
      "\t0.9: 0.1107\n",
      "\t1.0: 0.1318\n",
      "Best parameter is 0.7000000000000001 with score 0.091\n"
     ]
    }
   ],
   "source": [
    "# RNN for cancer with scaling\n",
    "solution(RNN, cancer, norm=True)"
   ]
  }
 ],
 "metadata": {
  "kernelspec": {
   "display_name": "Python 3",
   "language": "python",
   "name": "python3"
  },
  "language_info": {
   "codemirror_mode": {
    "name": "ipython",
    "version": 3
   },
   "file_extension": ".py",
   "mimetype": "text/x-python",
   "name": "python",
   "nbconvert_exporter": "python",
   "pygments_lexer": "ipython3",
   "version": "3.6.7"
  }
 },
 "nbformat": 4,
 "nbformat_minor": 4
}
