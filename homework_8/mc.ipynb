{
 "cells": [
  {
   "cell_type": "code",
   "execution_count": 19,
   "metadata": {},
   "outputs": [],
   "source": [
    "import pandas as pd\n",
    "import operator\n",
    "import numpy as np\n",
    "import random\n",
    "import matplotlib.pyplot as plt"
   ]
  },
  {
   "cell_type": "code",
   "execution_count": 20,
   "metadata": {},
   "outputs": [],
   "source": [
    "tsp = pd.read_csv('../data/tsp.csv')"
   ]
  },
  {
   "cell_type": "code",
   "execution_count": 21,
   "metadata": {},
   "outputs": [],
   "source": [
    "x, y = tsp['565'].values, tsp['575'].values"
   ]
  },
  {
   "cell_type": "code",
   "execution_count": 4,
   "metadata": {},
   "outputs": [],
   "source": [
    "# идея Оли Машковой"
   ]
  },
  {
   "cell_type": "code",
   "execution_count": 22,
   "metadata": {},
   "outputs": [],
   "source": [
    "class City:\n",
    "    \n",
    "    def __init__(self, x, y):\n",
    "        self.x = x\n",
    "        self.y = y\n",
    "    \n",
    "    def distance(self, city): \n",
    "        # L_1 расстояние до города city\n",
    "        x_dist = abs(self.x - city.x)\n",
    "        y_dist = abs(self.y - city.y)\n",
    "        dist = x_dist + y_dist\n",
    "        return dist\n",
    "    \n",
    "    def __repr__(self): \n",
    "        # привычное воспроизведение координат нашего города\n",
    "        return '(' + str(self.x) + ', ' + str(self.y) + ')'"
   ]
  },
  {
   "cell_type": "code",
   "execution_count": 23,
   "metadata": {},
   "outputs": [],
   "source": [
    "class Fitness:\n",
    "    \n",
    "    def __init__(self, route):\n",
    "        \n",
    "        # маршрут\n",
    "        self.route = route \n",
    "        \n",
    "        # длина маршрута\n",
    "        self.distance = 0 \n",
    "        \n",
    "        # величина, обратная длине маршрута\n",
    "        self.fitness = 0 \n",
    "    \n",
    "    def route_distance(self):\n",
    "        if self.distance == 0:\n",
    "            dist = 0\n",
    "            for i in range(len(self.route) - 1):\n",
    "                from_city = self.route[i]\n",
    "                to_city = self.route[i + 1]\n",
    "                dist += from_city.distance(to_city)\n",
    "            self.distance = dist\n",
    "        return self.distance\n",
    "    \n",
    "    def route_fitness(self):\n",
    "        if self.fitness == 0:\n",
    "            self.fitness = 1 / float(self.route_distance())\n",
    "        return self.fitness"
   ]
  },
  {
   "cell_type": "code",
   "execution_count": 24,
   "metadata": {},
   "outputs": [],
   "source": [
    "def create_routes(city_list, n):\n",
    "    routes = []\n",
    "    for i in range(n):\n",
    "        routes.append(random.sample(city_list, len(city_list)))\n",
    "    return routes\n",
    "\n",
    "def rank_routes(routes, n): \n",
    "    # ранжируем маршруты по величине fitness_route\n",
    "    fitness_ranking = {}\n",
    "    for i in range(n):\n",
    "        fitness_ranking[i] = Fitness(routes[i]).route_fitness()\n",
    "    return sorted(fitness_ranking.items(), key=operator.itemgetter(1), reverse=True)\n",
    "\n",
    "def monte_carlo(city_list, num_iterations):\n",
    "    routes = create_routes(city_list, num_iterations)\n",
    "    ranked_routes = rank_routes(routes, num_iterations)\n",
    "    best_route_index = ranked_routes[0][0]\n",
    "    best_route = routes[best_route_index]\n",
    "    print(f'Лучшее расстояние: {1 / ranked_routes[0][1]}')\n",
    "    return best_route\n",
    "\n",
    "def plot_best_path(best_route):\n",
    "    for i in range(len(best_route)):\n",
    "        if i < (len(best_route) - 1):\n",
    "            x1, y1 = [best_route[i].x, best_route[i + 1].x], [best_route[i].y, best_route[i].y]\n",
    "            x2, y2 = [best_route[i + 1].x, best_route[i + 1].x], [best_route[i].y, best_route[i + 1].y]\n",
    "            plt.plot(x1, y1, color='red')\n",
    "            plt.plot(x2, y2, color='red')\n",
    "        plt.scatter(best_route[0].x, best_route[0].y, color='blue', s=60)\n",
    "        plt.scatter(best_route[-1].x, best_route[-1].y, color='blue', s=60)\n",
    "        if i != 0 and i != len(best_route) - 1:\n",
    "            plt.scatter(best_route[i].x, best_route[i].y, color='black')"
   ]
  },
  {
   "cell_type": "code",
   "execution_count": 25,
   "metadata": {},
   "outputs": [],
   "source": [
    "city_list = []\n",
    "for i in range(len(x)):\n",
    "    city_list.append(City(x=x[i], y=y[i]))"
   ]
  },
  {
   "cell_type": "code",
   "execution_count": 26,
   "metadata": {},
   "outputs": [
    {
     "name": "stdout",
     "output_type": "stream",
     "text": [
      "Лучшее расстояние: 29625.0\n"
     ]
    }
   ],
   "source": [
    "best_route = monte_carlo(city_list, 1000)"
   ]
  },
  {
   "cell_type": "code",
   "execution_count": 27,
   "metadata": {},
   "outputs": [
    {
     "data": {
      "image/png": "[encoded data removed]",
      "text/plain": [
       "<Figure size 432x288 with 1 Axes>"
      ]
     },
     "metadata": {
      "needs_background": "light"
     },
     "output_type": "display_data"
    }
   ],
   "source": [
    "plot_best_path(best_route)"
   ]
  }
 ],
 "metadata": {
  "kernelspec": {
   "display_name": "Python 3",
   "language": "python",
   "name": "python3"
  },
  "language_info": {
   "codemirror_mode": {
    "name": "ipython",
    "version": 3
   },
   "file_extension": ".py",
   "mimetype": "text/x-python",
   "name": "python",
   "nbconvert_exporter": "python",
   "pygments_lexer": "ipython3",
   "version": "3.6.7"
  }
 },
 "nbformat": 4,
 "nbformat_minor": 4
}
