{
 "cells": [
  {
   "cell_type": "code",
   "execution_count": 1,
   "metadata": {},
   "outputs": [],
   "source": [
    "import pandas as pd\n",
    "import numpy as np\n",
    "import scipy.stats as ss\n",
    "import matplotlib.pyplot as plt\n",
    "from sklearn.model_selection import train_test_split\n",
    "from sklearn.metrics import roc_curve\n",
    "from nltk.stem import PorterStemmer\n",
    "from sklearn.feature_extraction.text import CountVectorizer"
   ]
  },
  {
   "cell_type": "code",
   "execution_count": 2,
   "metadata": {},
   "outputs": [],
   "source": [
    "smsspam = pd.read_csv('../data/smsspam.csv')\n",
    "spam = pd.read_csv('../data/spam.csv')\n",
    "tsp = pd.read_csv('../data/tsp.csv')"
   ]
  },
  {
   "cell_type": "code",
   "execution_count": 20,
   "metadata": {},
   "outputs": [],
   "source": [
    "class GBayes:\n",
    "    def __init__(self):\n",
    "        pass\n",
    "    \n",
    "    def fit(self, x, y):\n",
    "        _data = x\n",
    "        _data['label'] = y\n",
    "        self.classes = np.unique(y)\n",
    "        \n",
    "        # prior\n",
    "        self.class_probabilities = _data.groupby('label').size() / len(_data)\n",
    "        \n",
    "        # posterior\n",
    "        self.means = _data.groupby('label').mean()\n",
    "        self.std = _data.groupby('label').std()\n",
    "\n",
    "    def calculate_probability(self, x, mean, std):\n",
    "        exp = np.exp(-((x - mean) ** 2 / (2 * std ** 2)))\n",
    "        if not exp:\n",
    "            exp += 1e-5\n",
    "        return (1 / (np.sqrt(2 * np.pi) * std)) * exp\n",
    "    \n",
    "    def class_probability_one(self, row):\n",
    "        \n",
    "        row_class = np.ones(len(self.classes))\n",
    "        for cls in self.classes:\n",
    "            for column in self.means:\n",
    "                row_class[cls] *= self.calculate_probability(row[column], self.means.iloc[cls][column],\n",
    "                                                             self.std.iloc[cls][column])\n",
    "        return row_class\n",
    "                \n",
    "    def predict_row(self, x):\n",
    "        pfc = self.class_probability_one(x)\n",
    "        pcf = np.ones(len(self.classes))\n",
    "        \n",
    "        total_prob = (pfc * self.class_probabilities).sum()\n",
    "        \n",
    "        pcf = (pfc * self.class_probabilities) / total_prob\n",
    "            \n",
    "        prediction = pcf.argmax()\n",
    "        if prediction < 0:\n",
    "            prediction = np.random.randint(0, 2)\n",
    "\n",
    "        return pfc, pcf, prediction\n",
    "    \n",
    "    def predict(self, x):\n",
    "        y = []\n",
    "        prob_1 = []\n",
    "        for i in range(len(x)):\n",
    "            pfc, pcf, prediction = self.predict_row(x.iloc[i])\n",
    "            prob_1.append(pcf.iloc[1])\n",
    "            y.append(prediction)\n",
    "        return y, prob_1"
   ]
  },
  {
   "cell_type": "code",
   "execution_count": 21,
   "metadata": {},
   "outputs": [],
   "source": [
    "def accuracy(y_pred, y_true):\n",
    "    return (y_pred == y_pred).sum() / len(y_pred)"
   ]
  },
  {
   "cell_type": "code",
   "execution_count": 22,
   "metadata": {},
   "outputs": [],
   "source": [
    "x, y = spam.drop('label', axis=1), spam.label\n",
    "x_train, x_test, y_train, y_test = train_test_split(x, y, test_size=0.2, stratify=y)\n",
    "x_train = pd.DataFrame(x_train, columns=spam.drop('label', axis=1).columns)\n",
    "x_test = pd.DataFrame(x_test, columns=spam.drop('label', axis=1).columns)"
   ]
  },
  {
   "cell_type": "code",
   "execution_count": 23,
   "metadata": {},
   "outputs": [],
   "source": [
    "gb = GBayes()"
   ]
  },
  {
   "cell_type": "code",
   "execution_count": 24,
   "metadata": {},
   "outputs": [],
   "source": [
    "gb.fit(x_train, y_train)"
   ]
  },
  {
   "cell_type": "code",
   "execution_count": 25,
   "metadata": {
    "scrolled": true
   },
   "outputs": [],
   "source": [
    "y_pred, prob = gb.predict(x_test)"
   ]
  },
  {
   "cell_type": "code",
   "execution_count": 27,
   "metadata": {},
   "outputs": [],
   "source": [
    "fpr, tpr, _ = roc_curve(y_test, prob)"
   ]
  },
  {
   "cell_type": "code",
   "execution_count": 28,
   "metadata": {},
   "outputs": [
    {
     "data": {
      "text/plain": [
       "<matplotlib.legend.Legend at 0x9d084386d8>"
      ]
     },
     "execution_count": 28,
     "metadata": {},
     "output_type": "execute_result"
    },
    {
     "data": {
      "image/png": "[encoded data removed]",
      "text/plain": [
       "<Figure size 432x288 with 1 Axes>"
      ]
     },
     "metadata": {
      "needs_background": "light"
     },
     "output_type": "display_data"
    }
   ],
   "source": [
    "plt.plot(fpr, tpr, color='darkorange', lw=2, label=f'Accuracy {accuracy(y_test, y_pred)}')\n",
    "plt.legend()"
   ]
  },
  {
   "cell_type": "code",
   "execution_count": 58,
   "metadata": {},
   "outputs": [],
   "source": []
  },
  {
   "cell_type": "code",
   "execution_count": 154,
   "metadata": {},
   "outputs": [],
   "source": [
    "class MBayes:\n",
    "    def __init__(self):\n",
    "        pass\n",
    "    \n",
    "    def fit(self, x, y):\n",
    "        self._data = x\n",
    "        self._data['label'] = y\n",
    "        self.classes = np.unique(y)\n",
    "        \n",
    "        self.n_doc = len(x)\n",
    "        self.n_doc_c = self._data.groupby('label').size()\n",
    "        self.prior = np.log(self.n_doc_c / self.n_doc)\n",
    "        self.train()\n",
    "        \n",
    "    def tokenize(self, x):\n",
    "        x = ' '.join([ps.stem(i.lower()) for i in x.split() if len(ps.stem(i.lower())) > 1])\n",
    "        return x\n",
    "        \n",
    "    def train(self):\n",
    "        self._data.text = self._data.text.apply(self.tokenize)\n",
    "        self.vectorizer = CountVectorizer()\n",
    "        self.vectorizer.fit_transform(self._data.text)\n",
    "        self.vocab = self.vectorizer.get_feature_names()\n",
    "        \n",
    "        self.likelihood = {}\n",
    "        for cls in self.classes:\n",
    "            self.vectorizer = CountVectorizer()\n",
    "            x = self.vectorizer.fit_transform(self._data.loc[self._data.label == cls].text)\n",
    "            matrix = x.toarray()\n",
    "            cls_vocab = self.vectorizer.get_feature_names()\n",
    "            self.likelihood[cls] = {}\n",
    "            for i, word in enumerate(cls_vocab):\n",
    "                word_count = sum(matrix[:, i])\n",
    "                self.likelihood[cls][word] = np.log((word_count + 1) / (matrix.sum() + len(self.vocab)))\n",
    "                \n",
    "    def predict_row(self, x):\n",
    "        class_sum = np.zeros(len(self.classes))\n",
    "        for i, cls in enumerate(self.classes):\n",
    "            class_sum[i] = self.prior.loc[cls]\n",
    "            for word in x.split():\n",
    "                if (word in self.vocab) and (word in self.likelihood[cls]):\n",
    "                    class_sum[i] += self.likelihood[cls][word]\n",
    "            class_sum /= sum(class_sum)\n",
    "        return class_sum, np.argmax(class_sum)\n",
    "    \n",
    "    def predict(self, x):\n",
    "        y_pred = []\n",
    "        probs = []\n",
    "        for row in x.text:\n",
    "            text = self.tokenize(row)\n",
    "            p, y = self.predict_row(text)\n",
    "            y_pred.append(y)\n",
    "            probs.append(p)\n",
    "        return y_pred, probs"
   ]
  },
  {
   "cell_type": "code",
   "execution_count": 155,
   "metadata": {},
   "outputs": [],
   "source": [
    "x, y = smsspam.drop('label', axis=1), smsspam.label\n",
    "x_train, x_test, y_train, y_test = train_test_split(x, y, test_size=0.2, stratify=y)\n",
    "x_train = pd.DataFrame(x_train, columns=smsspam.drop('label', axis=1).columns)\n",
    "x_test = pd.DataFrame(x_test, columns=smsspam.drop('label', axis=1).columns)"
   ]
  },
  {
   "cell_type": "code",
   "execution_count": 156,
   "metadata": {},
   "outputs": [],
   "source": [
    "mb = MBayes()"
   ]
  },
  {
   "cell_type": "code",
   "execution_count": 157,
   "metadata": {},
   "outputs": [],
   "source": [
    "mb.fit(x_train, y_train)"
   ]
  },
  {
   "cell_type": "code",
   "execution_count": 158,
   "metadata": {},
   "outputs": [],
   "source": [
    "y_pred, prob = mb.predict(x_test)"
   ]
  },
  {
   "cell_type": "code",
   "execution_count": 168,
   "metadata": {},
   "outputs": [],
   "source": [
    "y_test_int = lambda x: 1 if x == 'ham' else 0"
   ]
  },
  {
   "cell_type": "code",
   "execution_count": 169,
   "metadata": {},
   "outputs": [],
   "source": [
    "y_test_int = [y_test_int(i) for i in y_test]"
   ]
  },
  {
   "cell_type": "code",
   "execution_count": 171,
   "metadata": {},
   "outputs": [],
   "source": [
    "fpr, tpr, _ = roc_curve(y_test_int, pd.DataFrame(prob)[1].values)"
   ]
  },
  {
   "cell_type": "code",
   "execution_count": 172,
   "metadata": {},
   "outputs": [
    {
     "data": {
      "text/plain": [
       "<matplotlib.legend.Legend at 0x2a217a0400>"
      ]
     },
     "execution_count": 172,
     "metadata": {},
     "output_type": "execute_result"
    },
    {
     "data": {
      "image/png": "[encoded data removed]",
      "text/plain": [
       "<Figure size 432x288 with 1 Axes>"
      ]
     },
     "metadata": {
      "needs_background": "light"
     },
     "output_type": "display_data"
    }
   ],
   "source": [
    "plt.plot(fpr, tpr, color='darkorange', lw=2, label=f'Accuracy {accuracy(y_test, y_pred)}')\n",
    "plt.legend()"
   ]
  },
  {
   "cell_type": "code",
   "execution_count": null,
   "metadata": {},
   "outputs": [],
   "source": []
  }
 ],
 "metadata": {
  "kernelspec": {
   "display_name": "Python 3",
   "language": "python",
   "name": "python3"
  },
  "language_info": {
   "codemirror_mode": {
    "name": "ipython",
    "version": 3
   },
   "file_extension": ".py",
   "mimetype": "text/x-python",
   "name": "python",
   "nbconvert_exporter": "python",
   "pygments_lexer": "ipython3",
   "version": "3.6.7"
  }
 },
 "nbformat": 4,
 "nbformat_minor": 4
}
