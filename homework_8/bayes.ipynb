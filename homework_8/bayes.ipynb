{
 "cells": [
  {
   "cell_type": "code",
   "execution_count": 62,
   "metadata": {},
   "outputs": [],
   "source": [
    "import pandas as pd\n",
    "import numpy as np\n",
    "import scipy.stats as ss\n",
    "import matplotlib.pyplot as plt\n",
    "from sklearn.model_selection import train_test_split\n",
    "from sklearn.metrics import roc_curve\n",
    "from nltk.stem import PorterStemmer\n",
    "from sklearn.feature_extraction.text import CountVectorizer"
   ]
  },
  {
   "cell_type": "code",
   "execution_count": null,
   "metadata": {},
   "outputs": [],
   "source": []
  },
  {
   "cell_type": "code",
   "execution_count": 2,
   "metadata": {},
   "outputs": [],
   "source": [
    "smsspam = pd.read_csv('../data/smsspam.csv')\n",
    "spam = pd.read_csv('../data/spam.csv')\n",
    "tsp = pd.read_csv('../data/tsp.csv')"
   ]
  },
  {
   "cell_type": "code",
   "execution_count": 3,
   "metadata": {},
   "outputs": [],
   "source": [
    "class GBayes:\n",
    "    def __init__(self):\n",
    "        pass\n",
    "    \n",
    "    def fit(self, x, y):\n",
    "        _data = x\n",
    "        _data['label'] = y\n",
    "        self.classes = np.unique(y)\n",
    "        \n",
    "        # prior\n",
    "        self.class_probabilities = _data.groupby('label').size() / len(_data)\n",
    "        \n",
    "        # posterior\n",
    "        self.means = _data.groupby('label').mean()\n",
    "        self.std = _data.groupby('label').std()\n",
    "\n",
    "    def calculate_probability(self, x, mean, std):\n",
    "        exp = np.exp(-((x - mean) ** 2 / (2 * std ** 2)))\n",
    "        if not exp:\n",
    "            exp += 1e-5\n",
    "        return (1 / (np.sqrt(2 * np.pi) * std)) * exp\n",
    "    \n",
    "    def class_probability_one(self, row):\n",
    "        \n",
    "        row_class = np.ones(len(self.classes))\n",
    "        for cls in self.classes:\n",
    "            for column in self.means:\n",
    "                row_class[cls] *= self.calculate_probability(row[column], self.means.iloc[cls][column],\n",
    "                                                             self.std.iloc[cls][column])\n",
    "        return row_class\n",
    "                \n",
    "    def predict_row(self, x):\n",
    "        pfc = self.class_probability_one(x)\n",
    "        pcf = np.ones(len(self.classes))\n",
    "        \n",
    "        total_prob = (pfc * self.class_probabilities).sum()\n",
    "        \n",
    "        pcf = (pfc * self.class_probabilities) / total_prob\n",
    "            \n",
    "        prediction = pcf.argmax()\n",
    "        if prediction < 0:\n",
    "            prediction = np.random.randint(0, 2)\n",
    "\n",
    "        return pfc, pcf, prediction\n",
    "    \n",
    "    def predict(self, x):\n",
    "        y = []\n",
    "        prob_1 = []\n",
    "        for i in range(len(x)):\n",
    "            pfc, pcf, prediction = self.predict_row(x.iloc[i])\n",
    "            prob_1.append(pcf[1])\n",
    "            y.append(prediction)\n",
    "        return y, prob_1"
   ]
  },
  {
   "cell_type": "code",
   "execution_count": 4,
   "metadata": {},
   "outputs": [],
   "source": [
    "def accuracy(y_pred, y_true):\n",
    "    return (y_pred == y_pred).sum() / len(y_pred)"
   ]
  },
  {
   "cell_type": "code",
   "execution_count": 12,
   "metadata": {},
   "outputs": [],
   "source": [
    "x, y = spam.drop('label', axis=1), spam.label\n",
    "x_train, x_test, y_train, y_test = train_test_split(x, y, test_size=0.2, stratify=y)\n",
    "x_train = pd.DataFrame(x_train, columns=spam.drop('label', axis=1).columns)\n",
    "x_test = pd.DataFrame(x_test, columns=spam.drop('label', axis=1).columns)"
   ]
  },
  {
   "cell_type": "code",
   "execution_count": 13,
   "metadata": {},
   "outputs": [],
   "source": [
    "gb = GBayes()"
   ]
  },
  {
   "cell_type": "code",
   "execution_count": 14,
   "metadata": {},
   "outputs": [],
   "source": [
    "gb.fit(x_train, y_train)"
   ]
  },
  {
   "cell_type": "code",
   "execution_count": 15,
   "metadata": {},
   "outputs": [],
   "source": [
    "y_pred, prob = gb.predict(x_test)"
   ]
  },
  {
   "cell_type": "code",
   "execution_count": 16,
   "metadata": {},
   "outputs": [],
   "source": [
    "fpr, tpr, _ = roc_curve(y_test, y_pred)"
   ]
  },
  {
   "cell_type": "code",
   "execution_count": 17,
   "metadata": {},
   "outputs": [
    {
     "data": {
      "text/plain": [
       "<matplotlib.legend.Legend at 0x2a45df2390>"
      ]
     },
     "execution_count": 17,
     "metadata": {},
     "output_type": "execute_result"
    },
    {
     "data": {
      "image/png": "[encoded data removed]",
      "text/plain": [
       "<Figure size 432x288 with 1 Axes>"
      ]
     },
     "metadata": {
      "needs_background": "light"
     },
     "output_type": "display_data"
    }
   ],
   "source": [
    "plt.plot(fpr, tpr, color='darkorange', lw=2, label=f'Accuracy {accuracy(y_test, y_pred)}')\n",
    "plt.legend()"
   ]
  },
  {
   "cell_type": "code",
   "execution_count": 58,
   "metadata": {},
   "outputs": [],
   "source": []
  },
  {
   "cell_type": "code",
   "execution_count": 120,
   "metadata": {},
   "outputs": [],
   "source": [
    "class MBayes:\n",
    "    def __init__(self):\n",
    "        pass\n",
    "    \n",
    "    def fit(self, x, y):\n",
    "        self._data = x\n",
    "        self._data['label'] = y\n",
    "        self.classes = np.unique(y)\n",
    "        \n",
    "        self.n_doc = len(x)\n",
    "        self.n_doc_c = self._data.groupby('label').size()\n",
    "        self.prior = np.log(self.n_doc_c / self.n_doc)\n",
    "        self.train()\n",
    "        \n",
    "    def tokenize(self, x):\n",
    "        x = ' '.join([ps.stem(i.lower()) for i in x.split() if len(ps.stem(i.lower())) > 1])\n",
    "        return x\n",
    "        \n",
    "    def train(self):\n",
    "        self._data.text = self._data.text.apply(self.tokenize)\n",
    "        self.vectorizer = CountVectorizer()\n",
    "        self.vectorizer.fit_transform(self._data.text)\n",
    "        self.vocab = self.vectorizer.get_feature_names()\n",
    "        \n",
    "        self.likelihood = {}\n",
    "        for cls in self.classes:\n",
    "            self.vectorizer = CountVectorizer()\n",
    "            x = self.vectorizer.fit_transform(self._data.loc[self._data.label == cls].text)\n",
    "            matrix = x.toarray()\n",
    "            cls_vocab = self.vectorizer.get_feature_names()\n",
    "            self.likelihood[cls] = {}\n",
    "            for i, word in enumerate(cls_vocab):\n",
    "                word_count = sum(matrix[:, i])\n",
    "                self.likelihood[cls][word] = np.log((word_count + 1) / (matrix.sum() + len(self.vocab)))\n",
    "                \n",
    "    def predict_row(self, x):\n",
    "        class_sum = np.zeros(len(self.classes))\n",
    "        for i, cls in enumerate(self.classes):\n",
    "            class_sum[i] = self.prior.loc[cls]\n",
    "            for word in x.split():\n",
    "                if word in self.vocab:\n",
    "                    class_sum[i] += self.likelihood[cls][word]\n",
    "        return class_sum, np.argmax(class_sum)\n",
    "    \n",
    "    def predict(self, x):\n",
    "        y_pred = []\n",
    "        probs = []\n",
    "        for row in x.text:\n",
    "            text = self.tokenize(row)\n",
    "            y, p = self.predict_row(text)\n",
    "            y_pred.append(y)\n",
    "            probs.append(p)\n",
    "        return y_pred, probs"
   ]
  },
  {
   "cell_type": "code",
   "execution_count": 121,
   "metadata": {},
   "outputs": [],
   "source": [
    "x, y = smsspam.drop('label', axis=1), smsspam.label\n",
    "x_train, x_test, y_train, y_test = train_test_split(x, y, test_size=0.2, stratify=y)\n",
    "x_train = pd.DataFrame(x_train, columns=smsspam.drop('label', axis=1).columns)\n",
    "x_test = pd.DataFrame(x_test, columns=smsspam.drop('label', axis=1).columns)"
   ]
  },
  {
   "cell_type": "code",
   "execution_count": 122,
   "metadata": {},
   "outputs": [],
   "source": [
    "mb = MBayes()"
   ]
  },
  {
   "cell_type": "code",
   "execution_count": null,
   "metadata": {},
   "outputs": [],
   "source": [
    "mb.fit(x_train, y_train)"
   ]
  },
  {
   "cell_type": "code",
   "execution_count": null,
   "metadata": {},
   "outputs": [],
   "source": [
    "y_pred, prob = mb.predict(x_test)"
   ]
  },
  {
   "cell_type": "code",
   "execution_count": null,
   "metadata": {},
   "outputs": [],
   "source": [
    "mb.likelihood"
   ]
  },
  {
   "cell_type": "code",
   "execution_count": null,
   "metadata": {},
   "outputs": [],
   "source": [
    "fpr, tpr, _ = roc_curve(y_test, y_pred)"
   ]
  },
  {
   "cell_type": "code",
   "execution_count": null,
   "metadata": {},
   "outputs": [],
   "source": [
    "plt.plot(fpr, tpr, color='darkorange', lw=2, label=f'Accuracy {accuracy(y_test, y_pred)}')\n",
    "plt.legend()"
   ]
  },
  {
   "cell_type": "code",
   "execution_count": null,
   "metadata": {},
   "outputs": [],
   "source": []
  },
  {
   "cell_type": "code",
   "execution_count": null,
   "metadata": {},
   "outputs": [],
   "source": []
  },
  {
   "cell_type": "code",
   "execution_count": null,
   "metadata": {},
   "outputs": [],
   "source": [
    "# Monte-Carlo"
   ]
  },
  {
   "cell_type": "code",
   "execution_count": null,
   "metadata": {},
   "outputs": [],
   "source": [
    "class City:\n",
    "    \n",
    "    def __init__(self, x, y):\n",
    "        self.x = x\n",
    "        self.y = y\n",
    "    \n",
    "    def distance(self, city): # L_1 расстояние до города city\n",
    "        x_dist = abs(self.x - city.x)\n",
    "        y_dist = abs(self.y - city.y)\n",
    "        dist = x_dist + y_dist\n",
    "        return dist\n",
    "    \n",
    "    def __repr__(self): # привычное воспроизведение координат нашего города\n",
    "        return '(' + str(self.x) + ', ' + str(self.y) + ')'"
   ]
  },
  {
   "cell_type": "code",
   "execution_count": null,
   "metadata": {},
   "outputs": [],
   "source": [
    "class Fitness:\n",
    "    \n",
    "    def __init__(self, route):\n",
    "        self.route = route # маршрут\n",
    "        self.distance = 0 # длина маршрута\n",
    "        self.fitness = 0 # величина, обратная длине маршрута\n",
    "    \n",
    "    def route_distance(self):\n",
    "        if self.distance == 0:\n",
    "            dist = 0\n",
    "            for i in range(len(self.route) - 1):\n",
    "                from_city = self.route[i]\n",
    "                to_city = self.route[i + 1]\n",
    "                dist += from_city.distance(to_city)\n",
    "            self.distance = dist\n",
    "        return self.distance\n",
    "    \n",
    "    def route_fitness(self):\n",
    "        if self.fitness == 0:\n",
    "            self.fitness = 1 / float(self.route_distance())\n",
    "        return self.fitness"
   ]
  },
  {
   "cell_type": "code",
   "execution_count": null,
   "metadata": {},
   "outputs": [],
   "source": [
    "def create_route(city_list): # создаём произвольный маршрут\n",
    "    route = random.sample(city_list, len(city_list))\n",
    "    return route\n",
    "\n",
    "def create_many_routes(city_list, n):\n",
    "    routes = []\n",
    "    for i in range(n):\n",
    "        routes.append(create_route(city_list))\n",
    "    return routes\n",
    "\n",
    "def rank_routes(routes, n): # ранжируем маршруты по величине fitness_route\n",
    "    fitness_ranking = {}\n",
    "    for i in range(n):\n",
    "        fitness_ranking[i] = Fitness(routes[i]).route_fitness()\n",
    "    return sorted(fitness_ranking.items(), key=operator.itemgetter(1), reverse=True)\n",
    "\n",
    "def monte_carlo(city_list, num_iterations):\n",
    "    routes = create_many_routes(city_list, num_iterations)\n",
    "    ranked_routes = rank_routes(routes, num_iterations)\n",
    "    best_route_index = ranked_routes[0][0]\n",
    "    best_route = routes[best_route_index]\n",
    "    print(f'Лучшее расстояние: {1 / ranked_routes[0][1]}')\n",
    "    return best_route\n",
    "\n",
    "def plot_best_path(best_route):\n",
    "    for i in range(len(best_route)):\n",
    "        if i < (len(best_route) - 1):\n",
    "            x1, y1 = [best_route[i].x, best_route[i + 1].x], [best_route[i].y, best_route[i].y]\n",
    "            x2, y2 = [best_route[i + 1].x, best_route[i + 1].x], [best_route[i].y, best_route[i + 1].y]\n",
    "            plt.plot(x1, y1, color='red')\n",
    "            plt.plot(x2, y2, color='red')\n",
    "        plt.scatter(best_route[0].x, best_route[0].y, color='blue', s=60)\n",
    "        plt.scatter(best_route[-1].x, best_route[-1].y, color='blue', s=60)\n",
    "        if i != 0 and i != len(best_route) - 1:\n",
    "            plt.scatter(best_route[i].x, best_route[i].y, color='black')"
   ]
  },
  {
   "cell_type": "code",
   "execution_count": null,
   "metadata": {},
   "outputs": [],
   "source": [
    "city_list = []\n",
    "for i in range(len(X)):\n",
    "    city_list.append(City(x=X[i], y=Y[i]))"
   ]
  },
  {
   "cell_type": "code",
   "execution_count": null,
   "metadata": {},
   "outputs": [],
   "source": [
    "best_route = monte_carlo(city_list, 1000)"
   ]
  },
  {
   "cell_type": "code",
   "execution_count": null,
   "metadata": {},
   "outputs": [],
   "source": [
    "plot_best_path(best_route)"
   ]
  }
 ],
 "metadata": {
  "kernelspec": {
   "display_name": "Python 3",
   "language": "python",
   "name": "python3"
  },
  "language_info": {
   "codemirror_mode": {
    "name": "ipython",
    "version": 3
   },
   "file_extension": ".py",
   "mimetype": "text/x-python",
   "name": "python",
   "nbconvert_exporter": "python",
   "pygments_lexer": "ipython3",
   "version": "3.6.7"
  }
 },
 "nbformat": 4,
 "nbformat_minor": 4
}
