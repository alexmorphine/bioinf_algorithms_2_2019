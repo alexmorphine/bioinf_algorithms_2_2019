{
 "cells": [
  {
   "cell_type": "code",
   "execution_count": 1,
   "metadata": {},
   "outputs": [],
   "source": [
    "import sys\n",
    "import pandas as pd\n",
    "from tqdm.notebook import tqdm\n",
    "import numpy as np\n",
    "from sklearn.model_selection import train_test_split as tts\n",
    "from sklearn.metrics import roc_auc_score, roc_curve\n",
    "import matplotlib.pyplot as plt\n",
    "from time import sleep\n",
    "sys.path.append('..')\n",
    "\n",
    "from homework_3.decision_tree import DecisionTree\n",
    "from random_forest import RandomForestClassifier"
   ]
  },
  {
   "cell_type": "code",
   "execution_count": 2,
   "metadata": {},
   "outputs": [],
   "source": [
    "def calc_auc(model, x, y_true):\n",
    "    y_pred = model.predict_proba(x)\n",
    "    return roc_auc_score(y_true, y_pred[:, 1])"
   ]
  },
  {
   "cell_type": "code",
   "execution_count": 3,
   "metadata": {},
   "outputs": [],
   "source": [
    "def calc_accuracy(model, x, y_true):\n",
    "    y_pred = np.argmax(model.predict_proba(x))\n",
    "    accuracy = (y_true == y_pred).mean()\n",
    "    return accuracy"
   ]
  },
  {
   "cell_type": "code",
   "execution_count": 4,
   "metadata": {},
   "outputs": [],
   "source": [
    "def plot_roc(fpr, tpr, auc, data):\n",
    "    plt.figure()\n",
    "    lw = 2\n",
    "    plt.plot(fpr, tpr, color='darkorange',\n",
    "             lw=lw, label='ROC curve (area = %0.2f)' % auc)\n",
    "    plt.plot([0, 1], [0, 1], color='navy', lw=lw, linestyle='--')\n",
    "    plt.xlim([0.0, 1.0])\n",
    "    plt.ylim([0.0, 1.05])\n",
    "    plt.xlabel('False Positive Rate')\n",
    "    plt.ylabel('True Positive Rate')\n",
    "    plt.title(f'ROC for {data}, depth=3, base_models=20')\n",
    "    plt.legend(loc=\"lower right\")\n",
    "    plt.show()"
   ]
  },
  {
   "cell_type": "code",
   "execution_count": 5,
   "metadata": {},
   "outputs": [],
   "source": [
    "def select_best(aucs, models, data, data_name):\n",
    "    base_models, depth = max(aucs, key=aucs.get)\n",
    "    print(f'{data_name}')\n",
    "    print(f'Best model with {base_models} base models of max depth {depth}')\n",
    "    forest = models[(base_models, depth)]\n",
    "    _, x_val, _, y_val = split_data(data)\n",
    "    print(f'Accuracy for the best model is {calc_accuracy(forest, x_val, y_val):.2f}')"
   ]
  },
  {
   "cell_type": "code",
   "execution_count": 6,
   "metadata": {},
   "outputs": [],
   "source": [
    "def split_data(data):\n",
    "    x, y = data.drop(['label'], axis=1).values, spam.label.values\n",
    "    x_train, x_val, y_train, y_val = tts(x, y, test_size=0.2, random_state=123)\n",
    "    return x_train, x_val, y_train, y_val"
   ]
  },
  {
   "cell_type": "code",
   "execution_count": 7,
   "metadata": {},
   "outputs": [],
   "source": [
    "def validate(data, n_base_models_range, depth_range):\n",
    "    models = {}\n",
    "    val_aucs = {}\n",
    "    x_train, x_val, y_train, y_val = split_data(data)\n",
    "    n_features = int(np.sqrt(x_train.shape[1]))\n",
    "\n",
    "    base_models_bar = tqdm(range(len(n_base_models_range) * len(depth_range)), desc='Base models')\n",
    "\n",
    "    for n_base_models in n_base_models_range:\n",
    "        base_models_bar.set_description(f'{n_base_models} base models')\n",
    "        depth_bar = tqdm(depth_range, desc='Depth', leave=False)\n",
    "        for depth in depth_bar:\n",
    "            depth_bar.set_description(f'Depth is now {depth}')\n",
    "            forest = RandomForestClassifier(base_model_class=DecisionTree, n_base_models=n_base_models, n_features=n_features, \n",
    "                                            criterion_name='gini', max_depth=depth)\n",
    "            forest.train(x_train, y_train)\n",
    "            models[(n_base_models, depth)] = forest\n",
    "            val_aucs[(n_base_models, depth)] = calc_auc(forest, x_val, y_val)\n",
    "            base_models_bar.update(1)\n",
    "    return models, val_aucs"
   ]
  },
  {
   "cell_type": "code",
   "execution_count": 8,
   "metadata": {},
   "outputs": [],
   "source": [
    "spam = pd.read_csv('../data/spam.csv')\n",
    "cancer = pd.read_csv('../data/cancer.csv')\n",
    "cancer.label = cancer.label.apply(lambda x: 1 if x == 'M' else 0)"
   ]
  },
  {
   "cell_type": "markdown",
   "metadata": {},
   "source": [
    "# 1"
   ]
  },
  {
   "cell_type": "code",
   "execution_count": 9,
   "metadata": {},
   "outputs": [],
   "source": [
    "x, y = spam.drop(['label'], axis=1).values, spam.label.values\n",
    "x_train, x_val, y_train, y_val = tts(x, y, test_size=0.2, random_state=123)"
   ]
  },
  {
   "cell_type": "code",
   "execution_count": 10,
   "metadata": {},
   "outputs": [],
   "source": [
    "n_features = int(np.sqrt(x_train.shape[1]))\n",
    "forest = RandomForestClassifier(base_model_class=DecisionTree, n_base_models=20, n_features=n_features,\n",
    "                                criterion_name='gini', max_depth=3)\n",
    "forest.train(x_train, y_train)\n",
    "y_pred = forest.predict_proba(x_val)[:, 1]\n",
    "auc = roc_auc_score(y_val, y_pred)\n",
    "fpr, tpr, _ = roc_curve(y_val, y_pred)"
   ]
  },
  {
   "cell_type": "code",
   "execution_count": 11,
   "metadata": {},
   "outputs": [
    {
     "data": {
      "image/png": "[encoded data removed]",
      "text/plain": [
       "<Figure size 432x288 with 1 Axes>"
      ]
     },
     "metadata": {
      "needs_background": "light"
     },
     "output_type": "display_data"
    }
   ],
   "source": [
    "plot_roc(fpr, tpr, auc, 'spam')"
   ]
  },
  {
   "cell_type": "markdown",
   "metadata": {},
   "source": [
    "# 2"
   ]
  },
  {
   "cell_type": "code",
   "execution_count": 12,
   "metadata": {
    "scrolled": true
   },
   "outputs": [],
   "source": [
    "n_base_models_range = [5, 10, 20, 30, 50, 100]\n",
    "depth_range = [2, 3, 5, 7, 10]"
   ]
  },
  {
   "cell_type": "code",
   "execution_count": null,
   "metadata": {},
   "outputs": [
    {
     "data": {
      "application/vnd.jupyter.widget-view+json": {
       "model_id": "3551bdc0af4946e883d864e950410b78",
       "version_major": 2,
       "version_minor": 0
      },
      "text/plain": [
       "HBox(children=(FloatProgress(value=0.0, description='Base models', max=30.0, style=ProgressStyle(description_w…"
      ]
     },
     "metadata": {},
     "output_type": "display_data"
    },
    {
     "data": {
      "application/vnd.jupyter.widget-view+json": {
       "model_id": "",
       "version_major": 2,
       "version_minor": 0
      },
      "text/plain": [
       "HBox(children=(FloatProgress(value=0.0, description='Depth', max=5.0, style=ProgressStyle(description_width='i…"
      ]
     },
     "metadata": {},
     "output_type": "display_data"
    },
    {
     "data": {
      "application/vnd.jupyter.widget-view+json": {
       "model_id": "",
       "version_major": 2,
       "version_minor": 0
      },
      "text/plain": [
       "HBox(children=(FloatProgress(value=0.0, description='Depth', max=5.0, style=ProgressStyle(description_width='i…"
      ]
     },
     "metadata": {},
     "output_type": "display_data"
    },
    {
     "data": {
      "application/vnd.jupyter.widget-view+json": {
       "model_id": "",
       "version_major": 2,
       "version_minor": 0
      },
      "text/plain": [
       "HBox(children=(FloatProgress(value=0.0, description='Depth', max=5.0, style=ProgressStyle(description_width='i…"
      ]
     },
     "metadata": {},
     "output_type": "display_data"
    },
    {
     "data": {
      "application/vnd.jupyter.widget-view+json": {
       "model_id": "962f880d6bdb43d2a0c85a1034d5ff42",
       "version_major": 2,
       "version_minor": 0
      },
      "text/plain": [
       "HBox(children=(FloatProgress(value=0.0, description='Depth', max=5.0, style=ProgressStyle(description_width='i…"
      ]
     },
     "metadata": {},
     "output_type": "display_data"
    }
   ],
   "source": [
    "val_accuracies, val_aucs = validate(spam, n_base_models_range, depth_range)\n",
    "select_best(val_aucs, models, 'Spam data')"
   ]
  },
  {
   "cell_type": "code",
   "execution_count": null,
   "metadata": {},
   "outputs": [],
   "source": [
    "val_accuracies, val_aucs = validate(cancer, n_base_models_range, depth_range)\n",
    "select_best(val_aucs, models, 'Cancer data')"
   ]
  },
  {
   "cell_type": "code",
   "execution_count": null,
   "metadata": {},
   "outputs": [],
   "source": []
  }
 ],
 "metadata": {
  "kernelspec": {
   "display_name": "Python 3",
   "language": "python",
   "name": "python3"
  },
  "language_info": {
   "codemirror_mode": {
    "name": "ipython",
    "version": 3
   },
   "file_extension": ".py",
   "mimetype": "text/x-python",
   "name": "python",
   "nbconvert_exporter": "python",
   "pygments_lexer": "ipython3",
   "version": "3.6.7"
  }
 },
 "nbformat": 4,
 "nbformat_minor": 4
}
